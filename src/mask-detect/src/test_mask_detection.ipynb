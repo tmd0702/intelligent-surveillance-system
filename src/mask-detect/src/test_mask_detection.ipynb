{
 "cells": [
  {
   "cell_type": "code",
   "execution_count": 2,
   "id": "502bd126-4574-453b-b166-ef98ff352675",
   "metadata": {},
   "outputs": [
    {
     "name": "stdout",
     "output_type": "stream",
     "text": [
      "loading Roboflow workspace...\n",
      "loading Roboflow project...\n"
     ]
    },
    {
     "name": "stderr",
     "output_type": "stream",
     "text": [
      "Downloading Dataset Version Zip in Face-Mask-2 to yolov11:: 100%|████████████████████████████████████████████████████████████████████████████████████████████████████████████████████████████████████| 16866/16866 [00:02<00:00, 7931.46it/s]"
     ]
    },
    {
     "name": "stdout",
     "output_type": "stream",
     "text": [
      "\n"
     ]
    },
    {
     "name": "stderr",
     "output_type": "stream",
     "text": [
      "\n",
      "Extracting Dataset Version Zip to Face-Mask-2 in yolov11:: 100%|███████████████████████████████████████████████████████████████████████████████████████████████████████████████████████████████████████| 1708/1708 [00:00<00:00, 9694.34it/s]\n"
     ]
    }
   ],
   "source": [
    "from roboflow import Roboflow\n",
    "rf = Roboflow(api_key=\"KHw7jej3kG0k0gYTob6p\")\n",
    "project = rf.workspace(\"yolo-2ikf4\").project(\"face-mask-32gnq\")\n",
    "version = project.version(2)\n",
    "dataset = version.download(\"yolov11\")\n",
    "                "
   ]
  },
  {
   "cell_type": "code",
   "execution_count": 1,
   "id": "83e32943-4191-4068-8b66-955c6f07585a",
   "metadata": {},
   "outputs": [],
   "source": [
    "from ultralytics import YOLO\n",
    "import cv2"
   ]
  },
  {
   "cell_type": "code",
   "execution_count": 23,
   "id": "ff774b41-3a0f-4057-9a89-e1859eef2f7e",
   "metadata": {},
   "outputs": [
    {
     "name": "stdout",
     "output_type": "stream",
     "text": [
      "/home/duc-softzone/intelligent-surveillance-system/src/mask-detect/src\n"
     ]
    }
   ],
   "source": [
    "print(os.getcwd())"
   ]
  },
  {
   "cell_type": "code",
   "execution_count": 30,
   "id": "161cc1c1-b990-4abb-8089-dcbcbbfae319",
   "metadata": {},
   "outputs": [],
   "source": [
    "model = YOLO(\"/home/duc-softzone/intelligent-surveillance-system/src/mask-detect/src/runs/detect/train4/weights/best.pt\")"
   ]
  },
  {
   "cell_type": "code",
   "execution_count": 31,
   "id": "3d1b7fa5-1918-4fad-8994-3296a72ff0a5",
   "metadata": {},
   "outputs": [],
   "source": [
    "#results = model.train(data=\"/home/duc-softzone/intelligent-surveillance-system/src/mask-detect/src/datasets/data.yaml\", epochs=150, batch=12, patience=10)"
   ]
  },
  {
   "cell_type": "code",
   "execution_count": null,
   "id": "0036cd5d-e2d2-4179-b462-07caf5c32bb6",
   "metadata": {},
   "outputs": [],
   "source": [
    "%matplotlib inline\n",
    "from matplotlib import pyplot as plt\n",
    "from PIL import Image\n",
    "import os\n",
    "\n",
    "test_dir = os.listdir('datasets/test/images')\n",
    "for file in test_dir:\n",
    "    path = os.path.join('datasets/test/images/', file)\n",
    "    image = cv2.imread(path)\n",
    "    image_rgb = cv2.cvtColor(image, cv2.COLOR_BGR2RGB)\n",
    "    results = model.predict(image)\n",
    "    for result in results:\n",
    "        draw = image_rgb.copy()\n",
    "        for box in result.boxes:\n",
    "            \n",
    "            draw = cv2.rectangle(draw, (int(box.xyxy[0][0]), int(box.xyxy[0][1])),\n",
    "                          (int(box.xyxy[0][2]), int(box.xyxy[0][3])), (255, 0, 0), 2)\n",
    "            draw = cv2.putText(draw, f\"{result.names[int(box.cls[0])]} | {box.conf[0]:.2f}\",\n",
    "                        (int(box.xyxy[0][0]), int(box.xyxy[0][1]) - 10),\n",
    "                        cv2.FONT_HERSHEY_PLAIN, 1, (0, 255, 0), 1)\n",
    "        plt.imshow(draw)\n",
    "        plt.axis('off')\n",
    "        plt.show()\n",
    "            \n",
    "            \n",
    "            \n",
    "    # break\n"
   ]
  },
  {
   "cell_type": "code",
   "execution_count": null,
   "id": "839fa869-b560-4c38-a310-ae69797080ad",
   "metadata": {},
   "outputs": [],
   "source": []
  }
 ],
 "metadata": {
  "kernelspec": {
   "display_name": "Python 3 (ipykernel)",
   "language": "python",
   "name": "python3"
  },
  "language_info": {
   "codemirror_mode": {
    "name": "ipython",
    "version": 3
   },
   "file_extension": ".py",
   "mimetype": "text/x-python",
   "name": "python",
   "nbconvert_exporter": "python",
   "pygments_lexer": "ipython3",
   "version": "3.10.13"
  }
 },
 "nbformat": 4,
 "nbformat_minor": 5
}
